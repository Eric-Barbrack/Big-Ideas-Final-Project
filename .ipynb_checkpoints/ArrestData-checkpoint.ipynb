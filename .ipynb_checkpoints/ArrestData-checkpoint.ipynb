{
 "cells": [
  {
   "cell_type": "code",
   "execution_count": 2,
   "metadata": {},
   "outputs": [],
   "source": [
    "import pandas as pd"
   ]
  },
  {
   "cell_type": "code",
   "execution_count": 3,
   "metadata": {},
   "outputs": [],
   "source": [
    "data = pd.read_csv(\"Arrest.csv\")"
   ]
  },
  {
   "cell_type": "code",
   "execution_count": 1,
   "metadata": {},
   "outputs": [],
   "source": [
    "hoodDictionary = dict()"
   ]
  },
  {
   "cell_type": "code",
   "execution_count": 7,
   "metadata": {},
   "outputs": [
    {
     "ename": "SyntaxError",
     "evalue": "cannot assign to function call (<ipython-input-7-044fad8aa9fe>, line 4)",
     "output_type": "error",
     "traceback": [
      "\u001b[0;36m  File \u001b[0;32m\"<ipython-input-7-044fad8aa9fe>\"\u001b[0;36m, line \u001b[0;32m4\u001b[0m\n\u001b[0;31m    hoodDictionary(data.iloc[i][10]) = value + 1\u001b[0m\n\u001b[0m    ^\u001b[0m\n\u001b[0;31mSyntaxError\u001b[0m\u001b[0;31m:\u001b[0m cannot assign to function call\n"
     ]
    }
   ],
   "source": [
    "for i in range(len(data)):\n",
    "    if(hoodDictionary.contains(data.iloc[i][10])):\n",
    "            value = hoodDictionary(data.iloc[i][10])\n",
    "            hoodDictionary(data.iloc[i][10]) = value + 1\n",
    "    else:\n",
    "        hoodDictionary(data.iloc[i][10]) = 1\n",
    "\n",
    "        \n",
    "print(hoodDictionary)\n",
    "\n",
    "# for i in range(len(data)):\n",
    "#     print(data.iloc[i][10])"
   ]
  },
  {
   "cell_type": "code",
   "execution_count": null,
   "metadata": {},
   "outputs": [],
   "source": []
  }
 ],
 "metadata": {
  "kernelspec": {
   "display_name": "Python 3",
   "language": "python",
   "name": "python3"
  },
  "language_info": {
   "codemirror_mode": {
    "name": "ipython",
    "version": 3
   },
   "file_extension": ".py",
   "mimetype": "text/x-python",
   "name": "python",
   "nbconvert_exporter": "python",
   "pygments_lexer": "ipython3",
   "version": "3.8.3"
  }
 },
 "nbformat": 4,
 "nbformat_minor": 4
}
