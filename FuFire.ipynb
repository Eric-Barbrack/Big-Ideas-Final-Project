{
 "cells": [
  {
   "cell_type": "code",
   "execution_count": 1,
   "metadata": {},
   "outputs": [],
   "source": [
    "import pandas as pd"
   ]
  },
  {
   "cell_type": "code",
   "execution_count": 21,
   "metadata": {},
   "outputs": [],
   "source": [
    "data = pd.read_csv(\"FireIncidents.csv\")"
   ]
  },
  {
   "cell_type": "code",
   "execution_count": 51,
   "metadata": {},
   "outputs": [
    {
     "name": "stdout",
     "output_type": "stream",
     "text": [
      "{'Building fire': 2004, 'Passenger vehicle fire': 1085, 'Outside rubbish fire, Other': 548, 'Cooking fire, confined to container': 2167, 'Outside rubbish, trash or waste fire': 745, 'Trash or rubbish fire, contained': 435, 'Brush or brush-and-grass mixture fire': 571, 'Special outside fire, Other': 252, 'Mobile property (vehicle) fire, Other': 198, 'Fuel burner/boiler malfunction, fire confined': 61, 'Fires in structure other than in a building': 134, 'Off-road vehicle or heavy equipment fire': 15, 'Outside equipment fire': 75, 'Fire, Other': 129, 'Garbage dump or sanitary landfill fire': 5, 'Dumpster or other outside trash receptacle fire': 449, 'Grass fire': 130, 'Chimney or flue fire, confined to chimney or flue': 51, 'Natural vegetation fire, Other': 255, 'Commercial Compactor fire, confined to rubbish': 14, 'Self-propelled motor home or recreational vehicle': 1, 'Outside storage fire': 20, 'Construction or demolition landfill fire': 27, 'Forest, woods or wildland fire': 38, 'Road freight or transport vehicle fire': 53, 'Rail vehicle fire': 3, 'Fire in portable building, fixed location': 12, 'Fire in mobile prop used as a fixed struc, Other': 5, 'Water vehicle fire': 8, 'Outside gas or vapor combustion explosion': 3, 'Outside stationary compactor/compacted trash fire': 10, 'Cultivated trees or nursery stock fire': 3, 'Incinerator overload or malfunction, fire confined': 8, 'Cultivated grain or crop fire': 1, 'Outside mailbox fire': 3, 'Cultivated vegetation, crop fire, Other': 7, 'Fire in mobile home used as fixed residence': 4, 'Fire in motor home, camper, recreational vehicle': 6, 'Camper or recreational vehicle (RV) fire': 4, 'Structure fire, Other (conversion only)': 1}\n",
      "\n",
      "{'nan': 1398, 'Fineview': 48, 'Fairywood': 26, 'South Side Flats': 260, 'Allegheny Center': 62, 'Lincoln-Lemington-Belmar': 193, 'Carrick': 283, 'Beechview': 146, 'Allentown': 125, 'Beltzhoover': 129, 'Crafton Heights': 84, 'Homewood North': 182, 'Squirrel Hill South': 252, 'Perry North': 108, 'Bedford Dwellings': 43, 'Homewood South': 189, 'East Allegheny': 130, 'Crawford-Roberts': 108, 'Sheraden': 172, 'Middle Hill': 104, 'Strip District': 61, 'East Hills': 154, 'Garfield': 109, 'Greenfield': 114, 'North Shore': 64, 'Spring Hill-City View': 103, 'Central Business District': 266, 'Upper Hill': 44, 'Manchester': 78, 'Overbrook': 57, 'Polish Hill': 39, 'Central Lawrenceville': 74, 'Brookline': 187, 'Marshall-Shadeland': 141, 'North Oakland': 125, 'South Oakland': 92, 'Homewood West': 61, 'East Liberty': 207, 'Hazelwood': 244, 'Squirrel Hill North': 130, 'Friendship': 32, 'West Oakland': 61, 'Terrace Village': 85, 'Brighton Heights': 153, 'Troy Hill': 84, 'Windgap': 23, 'Knoxville': 178, 'Upper Lawrenceville': 51, 'Arlington': 51, 'Elliott': 71, 'South Side Slopes': 102, 'Bloomfield': 170, 'Perry South': 161, 'Central Northside': 129, 'Point Breeze': 70, 'Bluff': 141, 'Mount Washington': 218, 'Point Breeze North': 49, 'Swisshelm Park': 16, 'Banksville': 59, 'Shadyside': 183, 'Spring Garden': 24, 'Regent Square': 9, 'Allegheny West': 42, 'Lower Lawrenceville': 55, 'Larimer': 124, 'Highland Park': 78, 'Stanton Heights': 57, 'Bon Air': 22, 'Glen Hazel': 20, 'Lincoln Place': 65, 'West End': 22, 'Central Oakland': 93, 'Ridgemont': 12, 'Westwood': 27, 'Summer Hill': 21, 'Esplen': 22, 'Morningside': 32, 'Hays': 24, 'Duquesne Heights': 40, 'California-Kirkbride': 39, 'Northview Heights': 64, 'New Homestead': 21, 'Chateau': 41, 'Mount Oliver Borough': 6, 'St. Clair': 13, 'East Carnegie': 11, 'Arlington Heights': 13, 'South Shore': 23, 'Oakwood': 13, 'Chartiers City': 17, 'Mt. Oliver': 11}\n"
     ]
    }
   ],
   "source": [
    "#data.groupby(\"neighborhood\").count()\n",
    "#ata.groupby(\"type_description\").count()\n",
    "fireDic = {}\n",
    "hoodDic ={}\n",
    "#print(data.iloc[40])\n",
    "#3 is fire type, 9 is neighborhood\n",
    "for i in range(len(data)):\n",
    "    hood=str(data.iloc[i][9])\n",
    "    if hood in hoodDic:\n",
    "        hoodDic[hood]=  hoodDic[hood]+1\n",
    "        \n",
    "    else:\n",
    "        hoodDic[hood] =1\n",
    "    fire=str(data.iloc[i][3])\n",
    "    if fire in fireDic:\n",
    "        fireDic[fire]=  fireDic[fire]+1\n",
    "        \n",
    "    else:\n",
    "        fireDic[fire] =1\n",
    "    #fireDic ={data.iloc[i][3]:1}\n",
    "    \n",
    "print(fireDic)\n",
    "print()\n",
    "print(hoodDic)\n",
    "\n",
    "    #print(data.iloc[i][9])"
   ]
  },
  {
   "cell_type": "code",
   "execution_count": null,
   "metadata": {},
   "outputs": [],
   "source": []
  }
 ],
 "metadata": {
  "kernelspec": {
   "display_name": "Python 3",
   "language": "python",
   "name": "python3"
  },
  "language_info": {
   "codemirror_mode": {
    "name": "ipython",
    "version": 3
   },
   "file_extension": ".py",
   "mimetype": "text/x-python",
   "name": "python",
   "nbconvert_exporter": "python",
   "pygments_lexer": "ipython3",
   "version": "3.8.3"
  }
 },
 "nbformat": 4,
 "nbformat_minor": 4
}
