{
 "cells": [
  {
   "cell_type": "markdown",
   "metadata": {},
   "source": [
    "#In conclusion\n",
    "Mt.Oliver is the best neighborhood from our data anaylsis.\n",
    "Mt.Oliver is rated the safest neigborhood in Pittsburgh through Eric's data. Not only is it the safest neighborhood, the borough itself had the second highest safety score according to Eric.\n",
    "According to Chris's analysis, Mt.Oliver also had a very low fire ELO. It ranked bottom five in Fire Elo which means that the fires occured there are deemed the least damaging to one's quality of life. It also had the least amount of fire out of any neighborhood which is great.\n",
    "\n",
    "Although Mt.Oliver itself is not included in the dataset for the current event dataset, there are neighborhoods in close proximity included in the data set such as South Side. This means that although there are not as many events around Mt.Oliver as downtown, there are still events available to its residents \n",
    "\n",
    "Thus, Mt.Oliver is the safest neighborhood according to arrest data, one of the least dangerous neighborhood when it comes to fires and a neighborhood that has events for its residents. It is the best neighborhood in Pittsburgh"
   ]
  },
  {
   "cell_type": "code",
   "execution_count": null,
   "metadata": {},
   "outputs": [],
   "source": []
  }
 ],
 "metadata": {
  "kernelspec": {
   "display_name": "Python 3",
   "language": "python",
   "name": "python3"
  },
  "language_info": {
   "codemirror_mode": {
    "name": "ipython",
    "version": 3
   },
   "file_extension": ".py",
   "mimetype": "text/x-python",
   "name": "python",
   "nbconvert_exporter": "python",
   "pygments_lexer": "ipython3",
   "version": "3.8.3"
  }
 },
 "nbformat": 4,
 "nbformat_minor": 4
}
